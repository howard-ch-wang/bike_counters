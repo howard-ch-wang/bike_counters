{
 "cells": [
  {
   "cell_type": "code",
   "execution_count": 1,
   "metadata": {},
   "outputs": [],
   "source": [
    "import pandas as pd\n",
    "from pathlib import Path\n",
    "import matplotlib.pyplot as plt\n",
    "import utils\n",
    "\n",
    "from sklearn.compose import ColumnTransformer\n",
    "from sklearn.linear_model import Ridge\n",
    "from sklearn.ensemble import HistGradientBoostingRegressor\n",
    "from sklearn.preprocessing import FunctionTransformer, OneHotEncoder, StandardScaler\n",
    "from sklearn.pipeline import Pipeline, make_pipeline\n",
    "from sklearn.linear_model import PoissonRegressor\n",
    "from sklearn.impute import SimpleImputer\n",
    "from feature_engine.timeseries.forecasting import LagFeatures\n",
    "from test_features import _merge_external_data, create_features, covid_dates "
   ]
  },
  {
   "cell_type": "markdown",
   "metadata": {},
   "source": [
    "## Helper Functions"
   ]
  },
  {
   "cell_type": "code",
   "execution_count": 2,
   "metadata": {},
   "outputs": [],
   "source": [
    "def train_test_split_temporal(X, y, delta_threshold=\"30 days\"):\n",
    "    \n",
    "    cutoff_date = X[\"date\"].max() - pd.Timedelta(delta_threshold)\n",
    "    mask = (X[\"date\"] <= cutoff_date)\n",
    "    X_train, X_valid = X.loc[mask], X.loc[~mask]\n",
    "    y_train, y_valid = y[mask], y[~mask]\n",
    "\n",
    "    return X_train, y_train, X_valid, y_valid\n",
    "\n",
    "def _encode_dates(X, cols=['date']):\n",
    "    X = X.copy()  # modify a copy of X\n",
    "    # Encode the date information from the DateOfDeparture columns\n",
    "    for time_col in cols:\n",
    "        X[f\"{time_col}_year\"] = X[time_col].dt.year\n",
    "        X[f\"{time_col}_month\"] = X[time_col].dt.month\n",
    "        X[f\"{time_col}_day\"] = X[time_col].dt.day\n",
    "        X[f\"{time_col}_weekday\"] = X[time_col].dt.weekday\n",
    "        X[f\"{time_col}_hour\"] = X[time_col].dt.hour\n",
    "\n",
    "    # Finally we can drop the original columns from the dataframe\n",
    "    return X.drop(columns=cols)"
   ]
  },
  {
   "cell_type": "markdown",
   "metadata": {},
   "source": [
    "## Hourly Data"
   ]
  },
  {
   "cell_type": "markdown",
   "metadata": {},
   "source": [
    "### Load data"
   ]
  },
  {
   "cell_type": "code",
   "execution_count": 4,
   "metadata": {},
   "outputs": [],
   "source": [
    "X, y = utils.get_train_data()"
   ]
  },
  {
   "cell_type": "code",
   "execution_count": 5,
   "metadata": {},
   "outputs": [],
   "source": [
    "weather = pd.read_csv(\n",
    "    \"data/H_75_previous-2020-2022.csv.gz\",\n",
    "    parse_dates=[\"AAAAMMJJHH\"],\n",
    "    date_format=\"%Y%m%d%H\",\n",
    "    compression=\"gzip\",\n",
    "    sep=\";\",\n",
    ").rename(columns={\"AAAAMMJJHH\": \"date\"})\n",
    "\n",
    "weather = weather[\n",
    "    (weather[\"date\"] >= X[\"date\"].min())\n",
    "    & (weather[\"date\"] <= X[\"date\"].max())\n",
    "]\n",
    "\n",
    "w = (\n",
    "    weather.drop(columns=[\"NUM_POSTE\", \"NOM_USUEL\", \"LAT\", \"LON\"])\n",
    "    .groupby(\"date\")\n",
    "    .mean()\n",
    "    .dropna(axis=1, how=\"all\")\n",
    "    .interpolate(method=\"linear\")\n",
    ")"
   ]
  },
  {
   "cell_type": "code",
   "execution_count": 6,
   "metadata": {},
   "outputs": [
    {
     "data": {
      "text/plain": [
       "Index(['ALTI', 'RR1', 'QRR1', 'DRR1', 'QDRR1', 'FF', 'QFF', 'DD', 'QDD', 'FXY',\n",
       "       'QFXY', 'DXY', 'QDXY', 'HXY', 'QHXY', 'FXI', 'QFXI', 'DXI', 'QDXI',\n",
       "       'HXI', 'QHXI', 'FXI3S', 'QFXI3S', 'QDXI3S', 'HFXI3S', 'QHFXI3S', 'T',\n",
       "       'QT', 'TD', 'QTD', 'TN', 'QTN', 'HTN', 'QHTN', 'TX', 'QTX', 'HTX',\n",
       "       'QHTX', 'DG', 'QDG', 'T10', 'QT10', 'T20', 'QT20', 'T50', 'QT50',\n",
       "       'T100', 'QT100', 'TNSOL', 'QTNSOL', 'TN50', 'QTN50', 'TCHAUSSEE',\n",
       "       'QTCHAUSSEE', 'U', 'QU', 'UN', 'QUN', 'HUN', 'QHUN', 'UX', 'QUX', 'HUX',\n",
       "       'QHUX', 'DHUMI40', 'QDHUMI40', 'DHUMI80', 'QDHUMI80', 'TSV', 'QTSV',\n",
       "       'PMER', 'QPMER', 'PSTAT', 'QPSTAT', 'PMERMIN', 'QPMERMIN', 'VV', 'QVV',\n",
       "       'DVV200', 'QDVV200', 'WW', 'QWW', 'NEIGETOT', 'QNEIGETOT', 'GLO',\n",
       "       'QGLO', 'GLO2', 'QGLO2', 'INS', 'QINS', 'INS2', 'QINS2'],\n",
       "      dtype='object')"
      ]
     },
     "execution_count": 6,
     "metadata": {},
     "output_type": "execute_result"
    }
   ],
   "source": [
    "w.columns"
   ]
  },
  {
   "cell_type": "code",
   "execution_count": 11,
   "metadata": {},
   "outputs": [
    {
     "data": {
      "text/plain": [
       "8975"
      ]
     },
     "execution_count": 11,
     "metadata": {},
     "output_type": "execute_result"
    }
   ],
   "source": [
    "len(w)"
   ]
  },
  {
   "cell_type": "markdown",
   "metadata": {},
   "source": [
    "### Checking NaNs"
   ]
  },
  {
   "cell_type": "code",
   "execution_count": 9,
   "metadata": {},
   "outputs": [],
   "source": [
    "def check_w_nan(col):\n",
    "    nan_rows = w[col].isna()\n",
    "    if len(w[nan_rows]) > 0:\n",
    "        print(col)\n",
    "        print(w[col].value_counts())\n",
    "        print(w[nan_rows].index)\n",
    "    # else:\n",
    "    #     print(\"All Good\")\n",
    "\n",
    "def check_x_nan(cols):\n",
    "    nan_rows = X[cols].isna()\n",
    "    nan_indices = X[nan_rows.any(axis=1)].index\n",
    "    rows_with_nan = X.loc[nan_indices]\n",
    "    rows_with_nan"
   ]
  },
  {
   "cell_type": "code",
   "execution_count": 10,
   "metadata": {},
   "outputs": [
    {
     "name": "stdout",
     "output_type": "stream",
     "text": [
      "QDXI3S\n",
      "QDXI3S\n",
      "1.0    3054\n",
      "Name: count, dtype: int64\n",
      "DatetimeIndex(['2020-09-01 01:00:00', '2020-09-01 02:00:00',\n",
      "               '2020-09-01 03:00:00', '2020-09-01 04:00:00',\n",
      "               '2020-09-01 05:00:00', '2020-09-01 06:00:00',\n",
      "               '2020-09-01 07:00:00', '2020-09-01 08:00:00',\n",
      "               '2020-09-01 09:00:00', '2020-09-01 10:00:00',\n",
      "               ...\n",
      "               '2021-05-05 08:00:00', '2021-05-05 09:00:00',\n",
      "               '2021-05-05 10:00:00', '2021-05-05 11:00:00',\n",
      "               '2021-05-05 12:00:00', '2021-05-05 13:00:00',\n",
      "               '2021-05-05 14:00:00', '2021-05-05 15:00:00',\n",
      "               '2021-05-05 16:00:00', '2021-05-05 17:00:00'],\n",
      "              dtype='datetime64[ns]', name='date', length=5921, freq=None)\n"
     ]
    }
   ],
   "source": [
    "for col in w.columns:\n",
    "    check_w_nan(col)"
   ]
  },
  {
   "cell_type": "code",
   "execution_count": null,
   "metadata": {},
   "outputs": [],
   "source": [
    "w.loc[(w.index < '2021-02-01') & (w.index >= '2021-01-31')][['T', 'NEIGETOT', 'RR1']]"
   ]
  },
  {
   "cell_type": "code",
   "execution_count": null,
   "metadata": {},
   "outputs": [],
   "source": [
    "snowing = w[w['is_snow'] == 1]\n",
    "min(snowing.index), max(snowing.index)"
   ]
  },
  {
   "cell_type": "code",
   "execution_count": null,
   "metadata": {},
   "outputs": [],
   "source": [
    "X, y = utils.get_train_data()\n",
    "y = y.reshape(-1, 1)"
   ]
  },
  {
   "cell_type": "markdown",
   "metadata": {},
   "source": [
    "### Merge"
   ]
  },
  {
   "cell_type": "code",
   "execution_count": 7,
   "metadata": {},
   "outputs": [],
   "source": [
    "X = X.merge(w, on='date', how='left')"
   ]
  },
  {
   "cell_type": "code",
   "execution_count": 8,
   "metadata": {},
   "outputs": [
    {
     "data": {
      "text/html": [
       "<div>\n",
       "<style scoped>\n",
       "    .dataframe tbody tr th:only-of-type {\n",
       "        vertical-align: middle;\n",
       "    }\n",
       "\n",
       "    .dataframe tbody tr th {\n",
       "        vertical-align: top;\n",
       "    }\n",
       "\n",
       "    .dataframe thead th {\n",
       "        text-align: right;\n",
       "    }\n",
       "</style>\n",
       "<table border=\"1\" class=\"dataframe\">\n",
       "  <thead>\n",
       "    <tr style=\"text-align: right;\">\n",
       "      <th></th>\n",
       "      <th>counter_id</th>\n",
       "      <th>counter_name</th>\n",
       "      <th>site_id</th>\n",
       "      <th>site_name</th>\n",
       "      <th>date</th>\n",
       "      <th>counter_installation_date</th>\n",
       "      <th>coordinates</th>\n",
       "      <th>counter_technical_id</th>\n",
       "      <th>latitude</th>\n",
       "      <th>longitude</th>\n",
       "      <th>...</th>\n",
       "      <th>PSTAT</th>\n",
       "      <th>PMERMIN</th>\n",
       "      <th>VV</th>\n",
       "      <th>DVV200</th>\n",
       "      <th>WW</th>\n",
       "      <th>NEIGETOT</th>\n",
       "      <th>GLO</th>\n",
       "      <th>GLO2</th>\n",
       "      <th>INS</th>\n",
       "      <th>INS2</th>\n",
       "    </tr>\n",
       "  </thead>\n",
       "  <tbody>\n",
       "    <tr>\n",
       "      <th>0</th>\n",
       "      <td>100049407-353255860</td>\n",
       "      <td>152 boulevard du Montparnasse E-O</td>\n",
       "      <td>100049407</td>\n",
       "      <td>152 boulevard du Montparnasse</td>\n",
       "      <td>2020-09-01 01:00:00</td>\n",
       "      <td>2018-12-07</td>\n",
       "      <td>48.840801,2.333233</td>\n",
       "      <td>Y2H19070373</td>\n",
       "      <td>48.840801</td>\n",
       "      <td>2.333233</td>\n",
       "      <td>...</td>\n",
       "      <td>1010.7</td>\n",
       "      <td>1020.1</td>\n",
       "      <td>20000.0</td>\n",
       "      <td>0.0</td>\n",
       "      <td>0.0</td>\n",
       "      <td>0.0</td>\n",
       "      <td>0.0</td>\n",
       "      <td>0.0</td>\n",
       "      <td>0.0</td>\n",
       "      <td>0.0</td>\n",
       "    </tr>\n",
       "    <tr>\n",
       "      <th>1</th>\n",
       "      <td>100049407-353255859</td>\n",
       "      <td>152 boulevard du Montparnasse O-E</td>\n",
       "      <td>100049407</td>\n",
       "      <td>152 boulevard du Montparnasse</td>\n",
       "      <td>2020-09-01 01:00:00</td>\n",
       "      <td>2018-12-07</td>\n",
       "      <td>48.840801,2.333233</td>\n",
       "      <td>Y2H19070373</td>\n",
       "      <td>48.840801</td>\n",
       "      <td>2.333233</td>\n",
       "      <td>...</td>\n",
       "      <td>1010.7</td>\n",
       "      <td>1020.1</td>\n",
       "      <td>20000.0</td>\n",
       "      <td>0.0</td>\n",
       "      <td>0.0</td>\n",
       "      <td>0.0</td>\n",
       "      <td>0.0</td>\n",
       "      <td>0.0</td>\n",
       "      <td>0.0</td>\n",
       "      <td>0.0</td>\n",
       "    </tr>\n",
       "    <tr>\n",
       "      <th>2</th>\n",
       "      <td>100036719-104036719</td>\n",
       "      <td>18 quai de l'Hôtel de Ville NO-SE</td>\n",
       "      <td>100036719</td>\n",
       "      <td>18 quai de l'Hôtel de Ville</td>\n",
       "      <td>2020-09-01 01:00:00</td>\n",
       "      <td>2017-07-12</td>\n",
       "      <td>48.85372,2.35702</td>\n",
       "      <td>Y2H19027732</td>\n",
       "      <td>48.853720</td>\n",
       "      <td>2.357020</td>\n",
       "      <td>...</td>\n",
       "      <td>1010.7</td>\n",
       "      <td>1020.1</td>\n",
       "      <td>20000.0</td>\n",
       "      <td>0.0</td>\n",
       "      <td>0.0</td>\n",
       "      <td>0.0</td>\n",
       "      <td>0.0</td>\n",
       "      <td>0.0</td>\n",
       "      <td>0.0</td>\n",
       "      <td>0.0</td>\n",
       "    </tr>\n",
       "    <tr>\n",
       "      <th>3</th>\n",
       "      <td>100036719-103036719</td>\n",
       "      <td>18 quai de l'Hôtel de Ville SE-NO</td>\n",
       "      <td>100036719</td>\n",
       "      <td>18 quai de l'Hôtel de Ville</td>\n",
       "      <td>2020-09-01 01:00:00</td>\n",
       "      <td>2017-07-12</td>\n",
       "      <td>48.85372,2.35702</td>\n",
       "      <td>Y2H19027732</td>\n",
       "      <td>48.853720</td>\n",
       "      <td>2.357020</td>\n",
       "      <td>...</td>\n",
       "      <td>1010.7</td>\n",
       "      <td>1020.1</td>\n",
       "      <td>20000.0</td>\n",
       "      <td>0.0</td>\n",
       "      <td>0.0</td>\n",
       "      <td>0.0</td>\n",
       "      <td>0.0</td>\n",
       "      <td>0.0</td>\n",
       "      <td>0.0</td>\n",
       "      <td>0.0</td>\n",
       "    </tr>\n",
       "    <tr>\n",
       "      <th>4</th>\n",
       "      <td>100063175-353277233</td>\n",
       "      <td>20 Avenue de Clichy NO-SE</td>\n",
       "      <td>100063175</td>\n",
       "      <td>20 Avenue de Clichy</td>\n",
       "      <td>2020-09-01 01:00:00</td>\n",
       "      <td>2020-07-22</td>\n",
       "      <td>48.88529,2.32666</td>\n",
       "      <td>Y2H20073268</td>\n",
       "      <td>48.885290</td>\n",
       "      <td>2.326660</td>\n",
       "      <td>...</td>\n",
       "      <td>1010.7</td>\n",
       "      <td>1020.1</td>\n",
       "      <td>20000.0</td>\n",
       "      <td>0.0</td>\n",
       "      <td>0.0</td>\n",
       "      <td>0.0</td>\n",
       "      <td>0.0</td>\n",
       "      <td>0.0</td>\n",
       "      <td>0.0</td>\n",
       "      <td>0.0</td>\n",
       "    </tr>\n",
       "    <tr>\n",
       "      <th>...</th>\n",
       "      <td>...</td>\n",
       "      <td>...</td>\n",
       "      <td>...</td>\n",
       "      <td>...</td>\n",
       "      <td>...</td>\n",
       "      <td>...</td>\n",
       "      <td>...</td>\n",
       "      <td>...</td>\n",
       "      <td>...</td>\n",
       "      <td>...</td>\n",
       "      <td>...</td>\n",
       "      <td>...</td>\n",
       "      <td>...</td>\n",
       "      <td>...</td>\n",
       "      <td>...</td>\n",
       "      <td>...</td>\n",
       "      <td>...</td>\n",
       "      <td>...</td>\n",
       "      <td>...</td>\n",
       "      <td>...</td>\n",
       "      <td>...</td>\n",
       "    </tr>\n",
       "    <tr>\n",
       "      <th>496822</th>\n",
       "      <td>100057329-103057329</td>\n",
       "      <td>Totem 85 quai d'Austerlitz SE-NO</td>\n",
       "      <td>100057329</td>\n",
       "      <td>Totem 85 quai d'Austerlitz</td>\n",
       "      <td>2021-09-09 23:00:00</td>\n",
       "      <td>2020-02-18</td>\n",
       "      <td>48.84201,2.36729</td>\n",
       "      <td>YTH19111508</td>\n",
       "      <td>48.842010</td>\n",
       "      <td>2.367290</td>\n",
       "      <td>...</td>\n",
       "      <td>1003.1</td>\n",
       "      <td>1012.0</td>\n",
       "      <td>20000.0</td>\n",
       "      <td>0.0</td>\n",
       "      <td>0.0</td>\n",
       "      <td>0.0</td>\n",
       "      <td>0.0</td>\n",
       "      <td>0.0</td>\n",
       "      <td>0.0</td>\n",
       "      <td>0.0</td>\n",
       "    </tr>\n",
       "    <tr>\n",
       "      <th>496823</th>\n",
       "      <td>100057380-104057380</td>\n",
       "      <td>Totem Cours la Reine E-O</td>\n",
       "      <td>100057380</td>\n",
       "      <td>Totem Cours la Reine</td>\n",
       "      <td>2021-09-09 23:00:00</td>\n",
       "      <td>2020-02-11</td>\n",
       "      <td>48.86462,2.31444</td>\n",
       "      <td>YTH19111509</td>\n",
       "      <td>48.864620</td>\n",
       "      <td>2.314440</td>\n",
       "      <td>...</td>\n",
       "      <td>1003.1</td>\n",
       "      <td>1012.0</td>\n",
       "      <td>20000.0</td>\n",
       "      <td>0.0</td>\n",
       "      <td>0.0</td>\n",
       "      <td>0.0</td>\n",
       "      <td>0.0</td>\n",
       "      <td>0.0</td>\n",
       "      <td>0.0</td>\n",
       "      <td>0.0</td>\n",
       "    </tr>\n",
       "    <tr>\n",
       "      <th>496824</th>\n",
       "      <td>100057380-103057380</td>\n",
       "      <td>Totem Cours la Reine O-E</td>\n",
       "      <td>100057380</td>\n",
       "      <td>Totem Cours la Reine</td>\n",
       "      <td>2021-09-09 23:00:00</td>\n",
       "      <td>2020-02-11</td>\n",
       "      <td>48.86462,2.31444</td>\n",
       "      <td>YTH19111509</td>\n",
       "      <td>48.864620</td>\n",
       "      <td>2.314440</td>\n",
       "      <td>...</td>\n",
       "      <td>1003.1</td>\n",
       "      <td>1012.0</td>\n",
       "      <td>20000.0</td>\n",
       "      <td>0.0</td>\n",
       "      <td>0.0</td>\n",
       "      <td>0.0</td>\n",
       "      <td>0.0</td>\n",
       "      <td>0.0</td>\n",
       "      <td>0.0</td>\n",
       "      <td>0.0</td>\n",
       "    </tr>\n",
       "    <tr>\n",
       "      <th>496825</th>\n",
       "      <td>100042374-110042374</td>\n",
       "      <td>Voie Georges Pompidou NE-SO</td>\n",
       "      <td>100042374</td>\n",
       "      <td>Voie Georges Pompidou</td>\n",
       "      <td>2021-09-09 23:00:00</td>\n",
       "      <td>2017-12-15</td>\n",
       "      <td>48.8484,2.27586</td>\n",
       "      <td>Y2H21025335</td>\n",
       "      <td>48.848400</td>\n",
       "      <td>2.275860</td>\n",
       "      <td>...</td>\n",
       "      <td>1003.1</td>\n",
       "      <td>1012.0</td>\n",
       "      <td>20000.0</td>\n",
       "      <td>0.0</td>\n",
       "      <td>0.0</td>\n",
       "      <td>0.0</td>\n",
       "      <td>0.0</td>\n",
       "      <td>0.0</td>\n",
       "      <td>0.0</td>\n",
       "      <td>0.0</td>\n",
       "    </tr>\n",
       "    <tr>\n",
       "      <th>496826</th>\n",
       "      <td>100042374-109042374</td>\n",
       "      <td>Voie Georges Pompidou SO-NE</td>\n",
       "      <td>100042374</td>\n",
       "      <td>Voie Georges Pompidou</td>\n",
       "      <td>2021-09-09 23:00:00</td>\n",
       "      <td>2017-12-15</td>\n",
       "      <td>48.8484,2.27586</td>\n",
       "      <td>Y2H21025335</td>\n",
       "      <td>48.848400</td>\n",
       "      <td>2.275860</td>\n",
       "      <td>...</td>\n",
       "      <td>1003.1</td>\n",
       "      <td>1012.0</td>\n",
       "      <td>20000.0</td>\n",
       "      <td>0.0</td>\n",
       "      <td>0.0</td>\n",
       "      <td>0.0</td>\n",
       "      <td>0.0</td>\n",
       "      <td>0.0</td>\n",
       "      <td>0.0</td>\n",
       "      <td>0.0</td>\n",
       "    </tr>\n",
       "  </tbody>\n",
       "</table>\n",
       "<p>496827 rows × 56 columns</p>\n",
       "</div>"
      ],
      "text/plain": [
       "                 counter_id                       counter_name    site_id  \\\n",
       "0       100049407-353255860  152 boulevard du Montparnasse E-O  100049407   \n",
       "1       100049407-353255859  152 boulevard du Montparnasse O-E  100049407   \n",
       "2       100036719-104036719  18 quai de l'Hôtel de Ville NO-SE  100036719   \n",
       "3       100036719-103036719  18 quai de l'Hôtel de Ville SE-NO  100036719   \n",
       "4       100063175-353277233          20 Avenue de Clichy NO-SE  100063175   \n",
       "...                     ...                                ...        ...   \n",
       "496822  100057329-103057329   Totem 85 quai d'Austerlitz SE-NO  100057329   \n",
       "496823  100057380-104057380           Totem Cours la Reine E-O  100057380   \n",
       "496824  100057380-103057380           Totem Cours la Reine O-E  100057380   \n",
       "496825  100042374-110042374        Voie Georges Pompidou NE-SO  100042374   \n",
       "496826  100042374-109042374        Voie Georges Pompidou SO-NE  100042374   \n",
       "\n",
       "                            site_name                date  \\\n",
       "0       152 boulevard du Montparnasse 2020-09-01 01:00:00   \n",
       "1       152 boulevard du Montparnasse 2020-09-01 01:00:00   \n",
       "2         18 quai de l'Hôtel de Ville 2020-09-01 01:00:00   \n",
       "3         18 quai de l'Hôtel de Ville 2020-09-01 01:00:00   \n",
       "4                 20 Avenue de Clichy 2020-09-01 01:00:00   \n",
       "...                               ...                 ...   \n",
       "496822     Totem 85 quai d'Austerlitz 2021-09-09 23:00:00   \n",
       "496823           Totem Cours la Reine 2021-09-09 23:00:00   \n",
       "496824           Totem Cours la Reine 2021-09-09 23:00:00   \n",
       "496825          Voie Georges Pompidou 2021-09-09 23:00:00   \n",
       "496826          Voie Georges Pompidou 2021-09-09 23:00:00   \n",
       "\n",
       "       counter_installation_date         coordinates counter_technical_id  \\\n",
       "0                     2018-12-07  48.840801,2.333233          Y2H19070373   \n",
       "1                     2018-12-07  48.840801,2.333233          Y2H19070373   \n",
       "2                     2017-07-12    48.85372,2.35702          Y2H19027732   \n",
       "3                     2017-07-12    48.85372,2.35702          Y2H19027732   \n",
       "4                     2020-07-22    48.88529,2.32666          Y2H20073268   \n",
       "...                          ...                 ...                  ...   \n",
       "496822                2020-02-18    48.84201,2.36729          YTH19111508   \n",
       "496823                2020-02-11    48.86462,2.31444          YTH19111509   \n",
       "496824                2020-02-11    48.86462,2.31444          YTH19111509   \n",
       "496825                2017-12-15     48.8484,2.27586          Y2H21025335   \n",
       "496826                2017-12-15     48.8484,2.27586          Y2H21025335   \n",
       "\n",
       "         latitude  longitude  ...   PSTAT  PMERMIN       VV  DVV200   WW  \\\n",
       "0       48.840801   2.333233  ...  1010.7   1020.1  20000.0     0.0  0.0   \n",
       "1       48.840801   2.333233  ...  1010.7   1020.1  20000.0     0.0  0.0   \n",
       "2       48.853720   2.357020  ...  1010.7   1020.1  20000.0     0.0  0.0   \n",
       "3       48.853720   2.357020  ...  1010.7   1020.1  20000.0     0.0  0.0   \n",
       "4       48.885290   2.326660  ...  1010.7   1020.1  20000.0     0.0  0.0   \n",
       "...           ...        ...  ...     ...      ...      ...     ...  ...   \n",
       "496822  48.842010   2.367290  ...  1003.1   1012.0  20000.0     0.0  0.0   \n",
       "496823  48.864620   2.314440  ...  1003.1   1012.0  20000.0     0.0  0.0   \n",
       "496824  48.864620   2.314440  ...  1003.1   1012.0  20000.0     0.0  0.0   \n",
       "496825  48.848400   2.275860  ...  1003.1   1012.0  20000.0     0.0  0.0   \n",
       "496826  48.848400   2.275860  ...  1003.1   1012.0  20000.0     0.0  0.0   \n",
       "\n",
       "        NEIGETOT  GLO  GLO2  INS  INS2  \n",
       "0            0.0  0.0   0.0  0.0   0.0  \n",
       "1            0.0  0.0   0.0  0.0   0.0  \n",
       "2            0.0  0.0   0.0  0.0   0.0  \n",
       "3            0.0  0.0   0.0  0.0   0.0  \n",
       "4            0.0  0.0   0.0  0.0   0.0  \n",
       "...          ...  ...   ...  ...   ...  \n",
       "496822       0.0  0.0   0.0  0.0   0.0  \n",
       "496823       0.0  0.0   0.0  0.0   0.0  \n",
       "496824       0.0  0.0   0.0  0.0   0.0  \n",
       "496825       0.0  0.0   0.0  0.0   0.0  \n",
       "496826       0.0  0.0   0.0  0.0   0.0  \n",
       "\n",
       "[496827 rows x 56 columns]"
      ]
     },
     "execution_count": 8,
     "metadata": {},
     "output_type": "execute_result"
    }
   ],
   "source": [
    "X_cleaned = X.copy()\n",
    "\n",
    "q_indicators = [col for col in X.columns if col.startswith('Q')]\n",
    "# feature_pairs = [(col[1:], col) for col in q_indicators]\n",
    "\n",
    "#     # Drop rows where 'Q' features indicate untrustworthiness\n",
    "# for feature, q_feature in feature_pairs:\n",
    "#     X_cleaned = X_cleaned[X_cleaned[q_feature] != 2]\n",
    "\n",
    "X_cleaned = X_cleaned.drop(columns=q_indicators)\n",
    "X_cleaned"
   ]
  },
  {
   "cell_type": "code",
   "execution_count": null,
   "metadata": {},
   "outputs": [],
   "source": [
    "# def create_features(X):\n",
    "\n",
    "#     X[\"is_rain\"] = (X[\"RR1\"] > 0).astype(int)\n",
    "#     X['is_snow'] = (X['NEIGETOT'] > 0).astype(int)\n",
    "#     X['wind_chill'] = 13.12 + 0.6215 * X['T'] - 11.37 * (X['FF']*3.6)**0.16 + 0.3965 * X['T'] * (X['FF']*3.6)**0.16\n",
    "#     X['is_rush_hour'] = (\n",
    "#         (X['date'].dt.hour >= 8) & (X['date'].dt.hour < 10) | \n",
    "#         (X['date'].dt.hour >= 17) & (X['date'].dt.hour < 20)\n",
    "#     ).astype(int)\n",
    "\n",
    "#     return X\n"
   ]
  },
  {
   "cell_type": "code",
   "execution_count": 9,
   "metadata": {},
   "outputs": [
    {
     "data": {
      "text/plain": [
       "Index(['counter_id', 'counter_name', 'site_id', 'site_name', 'date',\n",
       "       'counter_installation_date', 'coordinates', 'counter_technical_id',\n",
       "       'latitude', 'longitude', 'ALTI', 'RR1', 'DRR1', 'FF', 'DD', 'FXY',\n",
       "       'DXY', 'HXY', 'FXI', 'DXI', 'HXI', 'FXI3S', 'HFXI3S', 'T', 'TD', 'TN',\n",
       "       'HTN', 'TX', 'HTX', 'DG', 'T10', 'T20', 'T50', 'T100', 'TNSOL', 'TN50',\n",
       "       'TCHAUSSEE', 'U', 'UN', 'HUN', 'UX', 'HUX', 'DHUMI40', 'DHUMI80', 'TSV',\n",
       "       'PMER', 'PSTAT', 'PMERMIN', 'VV', 'DVV200', 'WW', 'NEIGETOT', 'GLO',\n",
       "       'GLO2', 'INS', 'INS2', 'is_rain', 'is_snow', 'wind_chill',\n",
       "       'is_rush_hour'],\n",
       "      dtype='object')"
      ]
     },
     "execution_count": 9,
     "metadata": {},
     "output_type": "execute_result"
    }
   ],
   "source": [
    "X_big = create_features(X_cleaned)\n",
    "X_cleaned.columns"
   ]
  },
  {
   "cell_type": "markdown",
   "metadata": {},
   "source": [
    "## HGB Model"
   ]
  },
  {
   "cell_type": "code",
   "execution_count": 22,
   "metadata": {},
   "outputs": [],
   "source": [
    "X, y = utils.get_train_data()\n",
    "y = y.reshape(-1, 1)\n",
    "# print(y.shape)\n",
    "# print(X.info())\n",
    "#y = np.exp(y)\n",
    "X = _merge_external_data(X)\n",
    "X = covid_dates(X)\n",
    "X = create_features(X)\n",
    "\n",
    "X_train, y_train, X_valid, y_valid = train_test_split_temporal(X, y)\n",
    "X_train, y_train = X, y #retraining on full dataset\n",
    "# print(f'Data: {X.columns}')\n",
    "# print(X.info())\n",
    "\n",
    "date_encoder = FunctionTransformer(_encode_dates)\n",
    "#make sure to pass any date columns here as well\n",
    "date_cols = _encode_dates(X[[\"date\"]]).columns.tolist() \n",
    "categorical_encoder = OneHotEncoder(handle_unknown=\"ignore\", sparse_output=False)\n",
    "categorical_cols = [\"counter_name\", \"site_name\"]\n",
    "binary_cols = ['in_date_range', 'is_rain', 'is_snow', 'is_rush_hour']\n",
    "location_cols = ['latitude', 'longitude']\n",
    "numerical_cols = ['T', \n",
    "                  'DRR1', 'FF', 'FXY', 'FXI', 'FXI3S', \n",
    "                  'RR1', 'TD', 'TN', 'TX', 'DG', 'U', 'UX', 'DHUMI40',\n",
    "                  'DHUMI80', 'INS', 'VV', 'DVV200', 'NEIGETOT', 'wind_chill'\n",
    "                  ]\n",
    "lag_transformer = LagFeatures(variables=['T', 'NEIGETOT'], periods=[24, 48], missing_values='ignore')\n",
    "\n",
    "#these are created later, can find these with get_features_out\n",
    "lagged_cols = ['T_lag_24', 'NEIGETOT_lag_24',\n",
    "               #'pmer_lag_24', 'tend_lag_24', 'cod_tend_lag_24', 'dd_lag_24', 'ff_lag_24', 'td_lag_24', 'u_lag_24', 'vv_lag_24', \n",
    "               'T_lag_48', 'NEIGETOT_lag_48'\n",
    "               #'pmer_lag_48', 'tend_lag_48', 'cod_tend_lag_48', 'dd_lag_48', 'ff_lag_48', 'td_lag_48', 'u_lag_48', 'vv_lag_48'\n",
    "               ]"
   ]
  },
  {
   "cell_type": "code",
   "execution_count": 23,
   "metadata": {},
   "outputs": [],
   "source": [
    "preprocessor = ColumnTransformer(\n",
    "    [\n",
    "        (\"date\", OneHotEncoder(handle_unknown=\"ignore\", sparse_output=False), date_cols),\n",
    "        #(\"install\", OneHotEncoder(handle_unknown=\"ignore\"), install_cols),\n",
    "        (\"cat\", categorical_encoder, categorical_cols),\n",
    "        ('location', 'passthrough', location_cols),\n",
    "        ('numerical', 'passthrough', numerical_cols),\n",
    "        ('lagged', 'passthrough', lagged_cols),\n",
    "        ('binary', 'passthrough', binary_cols)\n",
    "    ],\n",
    "    #remainder='passthrough'\n",
    ")"
   ]
  },
  {
   "cell_type": "code",
   "execution_count": 24,
   "metadata": {},
   "outputs": [
    {
     "name": "stderr",
     "output_type": "stream",
     "text": [
      "/Users/chwang/Library/CloudStorage/OneDrive-HECParis/Course Materials/2024-25 X/Python/pyds_howard/pyds/lib/python3.11/site-packages/sklearn/utils/validation.py:1339: DataConversionWarning: A column-vector y was passed when a 1d array was expected. Please change the shape of y to (n_samples, ), for example using ravel().\n",
      "  y = column_or_1d(y, warn=True)\n"
     ]
    },
    {
     "name": "stdout",
     "output_type": "stream",
     "text": [
      "rmse:0.1261935370305505\n"
     ]
    }
   ],
   "source": [
    "# regressor = HistGradientBoostingRegressor(max_leaf_nodes=50, verbose=0, max_iter=700)\n",
    "\n",
    "\n",
    "# print(f'Building with {regressor}')\n",
    "\n",
    "\n",
    "pipe = Pipeline([\n",
    "    ('lag_features', lag_transformer),\n",
    "    ('date_encoder', date_encoder),\n",
    "    ('preprocessor', preprocessor),\n",
    "    ('regressor', HistGradientBoostingRegressor(max_leaf_nodes=50, verbose=0, max_iter=700))\n",
    "])\n",
    "\n",
    "pipe.fit(X_train, y_train, \n",
    "         #regressor__sample_weight=weights\n",
    "         )\n",
    "\n",
    "#print(f'lagged: {lag_transformer.get_feature_names_out()}')\n",
    "\n",
    "y_val_pred = pipe.predict(X_valid)\n",
    "#y_val_pred = np.where(y_val_pred < 0, 0, y_val_pred) #for GMM - this helps remove negative values\n",
    "\n",
    "from sklearn.metrics import mean_squared_error\n",
    "print(f'rmse:{mean_squared_error(y_val_pred, y_valid)}')\n"
   ]
  },
  {
   "cell_type": "code",
   "execution_count": 13,
   "metadata": {},
   "outputs": [],
   "source": [
    "def get_test_data(path=\"data/final_test.parquet\"):\n",
    "    data = pd.read_parquet(path)\n",
    "    # Sort by date first, so that time based cross-validation would produce correct results\n",
    "    #data = data.sort_values([\"date\", \"counter_name\"])\n",
    "    X_test = data.copy()\n",
    "    return X_test"
   ]
  },
  {
   "cell_type": "code",
   "execution_count": 14,
   "metadata": {},
   "outputs": [],
   "source": [
    "X_test = get_test_data()\n",
    "X_test = _merge_external_data(X_test)\n",
    "X_test = covid_dates(X_test)\n",
    "X_test = create_features(X_test)\n",
    "y_pred = pipe.predict(X_test)"
   ]
  },
  {
   "cell_type": "markdown",
   "metadata": {},
   "source": [
    "## Feature Importance"
   ]
  },
  {
   "cell_type": "code",
   "execution_count": 27,
   "metadata": {},
   "outputs": [
    {
     "name": "stdout",
     "output_type": "stream",
     "text": [
      "         Feature  Importance\n",
      "4           date    2.377246\n",
      "25           INS    0.693391\n",
      "3      site_name    0.399240\n",
      "1   counter_name    0.361713\n",
      "33  is_rush_hour    0.335159\n",
      "8       latitude    0.093090\n",
      "16             T    0.084828\n",
      "9      longitude    0.064280\n",
      "32    wind_chill    0.029564\n",
      "17            TD    0.023913\n"
     ]
    }
   ],
   "source": [
    "from sklearn.inspection import permutation_importance\n",
    "\n",
    "# Calculate permutation importance after fitting the pipeline\n",
    "result = permutation_importance(\n",
    "    pipe, X_train, y_train, n_repeats=5, random_state=0, scoring='neg_mean_squared_error', n_jobs=-1\n",
    ")\n",
    "\n",
    "# Combine results into a DataFrame\n",
    "importance_df = pd.DataFrame({\n",
    "    'Feature': X.columns,\n",
    "    'Importance': result.importances_mean\n",
    "}).sort_values(by='Importance', ascending=False)\n",
    "\n",
    "print(importance_df.head(10))"
   ]
  },
  {
   "cell_type": "code",
   "execution_count": 28,
   "metadata": {},
   "outputs": [
    {
     "data": {
      "image/png": "[encoded data removed]",
      "text/plain": [
       "<Figure size 1000x600 with 1 Axes>"
      ]
     },
     "metadata": {},
     "output_type": "display_data"
    }
   ],
   "source": [
    "top_features = importance_df.head(20)\n",
    "plt.figure(figsize=(10, 6))\n",
    "plt.barh(top_features['Feature'], top_features['Importance'])\n",
    "plt.gca().invert_yaxis()\n",
    "plt.xlabel('Importance')\n",
    "plt.ylabel('Feature')\n",
    "plt.title('Top 20 Feature Importances')\n",
    "plt.show()"
   ]
  },
  {
   "cell_type": "markdown",
   "metadata": {},
   "source": [
    "## "
   ]
  },
  {
   "cell_type": "code",
   "execution_count": null,
   "metadata": {},
   "outputs": [],
   "source": [
    "from sklearn.model_selection import RandomizedSearchCV\n",
    "\n",
    "\n",
    "# Define the hyperparameter grid\n",
    "param_grid = {\n",
    "    'regressor__learning_rate': [0.01, 0.05, 0.1, 0.2],\n",
    "    'regressor__max_iter': [2000, 3000, 5000],\n",
    "    'regressor__max_leaf_nodes': [31, 50, 100],\n",
    "    'regressor__min_samples_leaf': [10, 20, 30],\n",
    "    'regressor__l2_regularization': [0.0, 0.1, 0.5]\n",
    "}\n",
    "\n",
    "# Set up RandomizedSearchCV\n",
    "search = RandomizedSearchCV(\n",
    "    estimator=pipe,\n",
    "    param_distributions=param_grid,\n",
    "    n_iter=50,  # Number of random samples\n",
    "    scoring='neg_mean_squared_error',\n",
    "    cv=5,  # 5-fold cross-validation\n",
    "    random_state=42,\n",
    "    n_jobs=-1  # Use all processors for parallel computation\n",
    ")\n",
    "\n",
    "# Fit the search\n",
    "search.fit(X_train, y_train)\n",
    "\n",
    "# Print the best parameters and score\n",
    "print(\"Best parameters:\", search.best_params_)\n",
    "print(\"Best score:\", search.best_score_)"
   ]
  },
  {
   "cell_type": "markdown",
   "metadata": {},
   "source": [
    "## Temp"
   ]
  },
  {
   "cell_type": "code",
   "execution_count": null,
   "metadata": {},
   "outputs": [],
   "source": [
    "cols = ['RR1', 'FF', 'T', 'TD', 'U', 'NEIGETOT', 'is_rain', 'is_snow']\n",
    "w[cols]"
   ]
  }
 ],
 "metadata": {
  "kernelspec": {
   "display_name": "pyds",
   "language": "python",
   "name": "python3"
  },
  "language_info": {
   "codemirror_mode": {
    "name": "ipython",
    "version": 3
   },
   "file_extension": ".py",
   "mimetype": "text/x-python",
   "name": "python",
   "nbconvert_exporter": "python",
   "pygments_lexer": "ipython3",
   "version": "3.11.3"
  }
 },
 "nbformat": 4,
 "nbformat_minor": 2
}
